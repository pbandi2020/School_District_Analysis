{
 "cells": [
  {
   "cell_type": "code",
   "execution_count": null,
   "metadata": {},
   "outputs": [],
   "source": [
    "# import the libraries\n",
    "import pandas as pd"
   ]
  },
  {
   "cell_type": "code",
   "execution_count": null,
   "metadata": {},
   "outputs": [],
   "source": [
    "# assign file path to a variable and open the file\n",
    "student_data_file = \"Resources/students_complete.csv\"\n",
    "student_data_df = pd.read_csv(student_data_file)\n",
    "student_data_df.head()"
   ]
  },
  {
   "cell_type": "code",
   "execution_count": null,
   "metadata": {},
   "outputs": [],
   "source": [
    "# create a student name list to help with analysis and data cleanp\n",
    "student_name = student_data_df[\"student_name\"].tolist()\n",
    "student_name"
   ]
  },
  {
   "cell_type": "code",
   "execution_count": null,
   "metadata": {},
   "outputs": [],
   "source": [
    "name = \"Mrs. Linda Santiago\"\n",
    "# print(f{'name': is split into {'name.split()'}  the length  })\n",
    "# print(name)\n",
    "# print(f\"{name.split()} is of length: {len(name.split())}\")\n",
    "# len(name.split()[0])\n",
    "name.replace(\"Mrs.\",\"Dr.\")"
   ]
  },
  {
   "cell_type": "code",
   "execution_count": null,
   "metadata": {},
   "outputs": [],
   "source": [
    "# Create an empty list to use in loop logic\n",
    "student_data_fix = []\n",
    "\n",
    "for i in student_name:\n",
    "    if len(i.split()) >= 3:\n",
    "        student_data_fix.append(i)\n",
    "        \n",
    "len(student_data_fix)\n",
    "print(student_data_fix)\n"
   ]
  },
  {
   "cell_type": "code",
   "execution_count": null,
   "metadata": {},
   "outputs": [],
   "source": [
    "# building a list of names that have prefixes\n",
    "prefixes = []\n",
    "\n",
    "for i in student_name:\n",
    "    if len(i.split()[0]) <= 4:\n",
    "        prefixes.append(i.split()[0])\n",
    "# print(prefixes)        \n",
    "set(prefixes)"
   ]
  },
  {
   "cell_type": "code",
   "execution_count": null,
   "metadata": {},
   "outputs": [],
   "source": [
    "# building a list of names that have suffixes\n",
    "suffix = []\n",
    "\n",
    "for i in student_name:\n",
    "    if len(i.split()[-1]) <= 3:\n",
    "        suffix.append(i.split()[-1])\n",
    "        \n",
    "# print(suffix)\n",
    "set(suffix)"
   ]
  },
  {
   "cell_type": "code",
   "execution_count": null,
   "metadata": {},
   "outputs": [],
   "source": [
    "# create a list of prefix & suffix\n",
    "prefix_suffix = [\"Dr. \",\"Mr. \",\"Ms. \",\"Miss \",\"Mrs. \",\"MD\",\"DDS\",\"DVM\",\"PhD\"]\n",
    "\n",
    "# iterate through the prefix_sufix list and se replace function to replace. \n",
    "# Remember to convert the object data type to str first before usinf replace function.\n",
    "\n",
    "for i in prefix_suffix:\n",
    "    student_data_df[\"student_name\"] = student_data_df[\"student_name\"].str.replace(i,\"\")\n",
    "    \n",
    "student_data_df\n",
    "    \n",
    "# add the cleaned data to another list\n",
    "student_name =  student_data_df[\"student_name\"].tolist()\n",
    "student_name"
   ]
  },
  {
   "cell_type": "code",
   "execution_count": null,
   "metadata": {},
   "outputs": [],
   "source": [
    "# create a new name list of the latest student name list\n",
    "student_name2 =  []\n",
    "\n",
    "# Loop through the names and find the names with length greater than 3 and append to the new student name list\n",
    "\n",
    "for i in student_name:\n",
    "    if len(i.split()) >= 3:\n",
    "        student_name2.append(i)\n",
    "        \n",
    "        \n",
    "len(student_name2)\n",
    "print(student_name2)"
   ]
  },
  {
   "cell_type": "code",
   "execution_count": null,
   "metadata": {},
   "outputs": [],
   "source": []
  }
 ],
 "metadata": {
  "kernelspec": {
   "display_name": "PythonData",
   "language": "python",
   "name": "pythondata"
  },
  "language_info": {
   "codemirror_mode": {
    "name": "ipython",
    "version": 3
   },
   "file_extension": ".py",
   "mimetype": "text/x-python",
   "name": "python",
   "nbconvert_exporter": "python",
   "pygments_lexer": "ipython3",
   "version": "3.8.5"
  }
 },
 "nbformat": 4,
 "nbformat_minor": 4
}
